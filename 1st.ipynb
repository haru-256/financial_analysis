{
 "cells": [
  {
   "cell_type": "markdown",
   "metadata": {},
   "source": [
    "# 財務分析第一回\n",
    "https://wineytrade.com/python_zaimubunseki_01/"
   ]
  },
  {
   "cell_type": "code",
   "execution_count": 14,
   "metadata": {},
   "outputs": [],
   "source": [
    "import pandas as pd\n",
    "import numpy as np\n",
    "import matplotlib.pyplot as plt\n",
    "plt.style.use(\"seaborn-whitegrid\")"
   ]
  },
  {
   "cell_type": "code",
   "execution_count": 3,
   "metadata": {},
   "outputs": [
    {
     "data": {
      "text/html": [
       "<div>\n",
       "<style scoped>\n",
       "    .dataframe tbody tr th:only-of-type {\n",
       "        vertical-align: middle;\n",
       "    }\n",
       "\n",
       "    .dataframe tbody tr th {\n",
       "        vertical-align: top;\n",
       "    }\n",
       "\n",
       "    .dataframe thead th {\n",
       "        text-align: right;\n",
       "    }\n",
       "</style>\n",
       "<table border=\"1\" class=\"dataframe\">\n",
       "  <thead>\n",
       "    <tr style=\"text-align: right;\">\n",
       "      <th></th>\n",
       "      <th>売上高</th>\n",
       "      <th>売上原価</th>\n",
       "      <th>売上総利益</th>\n",
       "      <th>売上総利益率</th>\n",
       "      <th>販管費</th>\n",
       "      <th>営業利益</th>\n",
       "      <th>営業利益率</th>\n",
       "      <th>EBITDA</th>\n",
       "      <th>経常利益</th>\n",
       "      <th>法人税等</th>\n",
       "      <th>...</th>\n",
       "      <th>投資CF</th>\n",
       "      <th>財務CF</th>\n",
       "      <th>フリーCF</th>\n",
       "      <th>設備投資額</th>\n",
       "      <th>研究開発費</th>\n",
       "      <th>発行済株式総数</th>\n",
       "      <th>従業員数</th>\n",
       "      <th>売上/従業員数</th>\n",
       "      <th>営利/従業員数</th>\n",
       "      <th>株価</th>\n",
       "    </tr>\n",
       "  </thead>\n",
       "  <tbody>\n",
       "    <tr>\n",
       "      <th>0</th>\n",
       "      <td>131463000000</td>\n",
       "      <td>94367000000</td>\n",
       "      <td>37095000000</td>\n",
       "      <td>28.2</td>\n",
       "      <td>21256000000</td>\n",
       "      <td>15839000000</td>\n",
       "      <td>12.0</td>\n",
       "      <td>17234000000</td>\n",
       "      <td>15887000000</td>\n",
       "      <td>4816000000</td>\n",
       "      <td>...</td>\n",
       "      <td>-3765000000</td>\n",
       "      <td>-6562000000</td>\n",
       "      <td>11480000000</td>\n",
       "      <td>-</td>\n",
       "      <td>-</td>\n",
       "      <td>248422212</td>\n",
       "      <td>572</td>\n",
       "      <td>229830419</td>\n",
       "      <td>27690559</td>\n",
       "      <td>2923</td>\n",
       "    </tr>\n",
       "    <tr>\n",
       "      <th>1</th>\n",
       "      <td>109553023000</td>\n",
       "      <td>77525768000</td>\n",
       "      <td>32027255000</td>\n",
       "      <td>29.2</td>\n",
       "      <td>18236593000</td>\n",
       "      <td>13790661000</td>\n",
       "      <td>12.6</td>\n",
       "      <td>15002704000</td>\n",
       "      <td>13788653000</td>\n",
       "      <td>4400293000</td>\n",
       "      <td>...</td>\n",
       "      <td>-1467137000</td>\n",
       "      <td>-5673782000</td>\n",
       "      <td>11591338000</td>\n",
       "      <td>-</td>\n",
       "      <td>-</td>\n",
       "      <td>248347948</td>\n",
       "      <td>480</td>\n",
       "      <td>228235464</td>\n",
       "      <td>28730543</td>\n",
       "      <td>2718</td>\n",
       "    </tr>\n",
       "    <tr>\n",
       "      <th>2</th>\n",
       "      <td>88347986000</td>\n",
       "      <td>61418845000</td>\n",
       "      <td>26929140000</td>\n",
       "      <td>30.5</td>\n",
       "      <td>15091418000</td>\n",
       "      <td>11837722000</td>\n",
       "      <td>13.4</td>\n",
       "      <td>12902332000</td>\n",
       "      <td>11858172000</td>\n",
       "      <td>3475960000</td>\n",
       "      <td>...</td>\n",
       "      <td>-3284825000</td>\n",
       "      <td>-1379969000</td>\n",
       "      <td>9898071000</td>\n",
       "      <td>-</td>\n",
       "      <td>-</td>\n",
       "      <td>248286334</td>\n",
       "      <td>377</td>\n",
       "      <td>234344790</td>\n",
       "      <td>31399793</td>\n",
       "      <td>1800</td>\n",
       "    </tr>\n",
       "  </tbody>\n",
       "</table>\n",
       "<p>3 rows × 71 columns</p>\n",
       "</div>"
      ],
      "text/plain": [
       "            売上高         売上原価        売上総利益  売上総利益率          販管費         営業利益  \\\n",
       "0  131463000000  94367000000  37095000000    28.2  21256000000  15839000000   \n",
       "1  109553023000  77525768000  32027255000    29.2  18236593000  13790661000   \n",
       "2   88347986000  61418845000  26929140000    30.5  15091418000  11837722000   \n",
       "\n",
       "   営業利益率       EBITDA         経常利益        法人税等  ...        投資CF        財務CF  \\\n",
       "0   12.0  17234000000  15887000000  4816000000  ... -3765000000 -6562000000   \n",
       "1   12.6  15002704000  13788653000  4400293000  ... -1467137000 -5673782000   \n",
       "2   13.4  12902332000  11858172000  3475960000  ... -3284825000 -1379969000   \n",
       "\n",
       "         フリーCF  設備投資額  研究開発費    発行済株式総数  従業員数    売上/従業員数   営利/従業員数    株価  \n",
       "0  11480000000      -      -  248422212   572  229830419  27690559  2923  \n",
       "1  11591338000      -      -  248347948   480  228235464  28730543  2718  \n",
       "2   9898071000      -      -  248286334   377  234344790  31399793  1800  \n",
       "\n",
       "[3 rows x 71 columns]"
      ]
     },
     "execution_count": 3,
     "metadata": {},
     "output_type": "execute_result"
    }
   ],
   "source": [
    "financial_data = pd.read_csv(\"financial_3064.csv\", encoding=\"SHIFT-JIS\")\n",
    "\n",
    "financial_data.head()"
   ]
  },
  {
   "cell_type": "code",
   "execution_count": 7,
   "metadata": {},
   "outputs": [
    {
     "data": {
      "text/plain": [
       "0    25.718558\n",
       "1    28.519839\n",
       "Name: 純資産, dtype: float64"
      ]
     },
     "execution_count": 7,
     "metadata": {},
     "output_type": "execute_result"
    }
   ],
   "source": [
    "net_assets = financial_data[\"純資産\"]\n",
    "net_assets_shift = net_assets.shift(-1)\n",
    "growth_rate = (net_assets - net_assets_shift) / net_assets_shift * 100\n",
    "gr_dropna = growth_rate.dropna()\n",
    "gr_dropna"
   ]
  },
  {
   "cell_type": "code",
   "execution_count": 16,
   "metadata": {},
   "outputs": [
    {
     "data": {
      "text/plain": [
       "[<matplotlib.lines.Line2D at 0x118738bb0>]"
      ]
     },
     "execution_count": 16,
     "metadata": {},
     "output_type": "execute_result"
    },
    {
     "data": {
      "image/png": "[encoded data removed]",
      "text/plain": [
       "<Figure size 432x288 with 1 Axes>"
      ]
     },
     "metadata": {},
     "output_type": "display_data"
    }
   ],
   "source": [
    "# 純資産を時系列で見る\n",
    "left = np.array([2, 1])\n",
    "plt.plot(left, gr_dropna)"
   ]
  },
  {
   "cell_type": "code",
   "execution_count": 18,
   "metadata": {},
   "outputs": [
    {
     "data": {
      "text/plain": [
       "26.65231798197642"
      ]
     },
     "execution_count": 18,
     "metadata": {},
     "output_type": "execute_result"
    }
   ],
   "source": [
    "# 加重平均\n",
    "sum_ = 0\n",
    "cnt = 0\n",
    "\n",
    "for year in reversed(gr_dropna):\n",
    "    cnt+=1\n",
    "    # 年度ごとに重みをつける\n",
    "    weight = year * cnt\n",
    "    sum_+=weight\n",
    "\n",
    "# 加重平均\n",
    "result = sum_ / (cnt * (cnt + 1) / 2) # 分母は等差数列の和\n",
    "result"
   ]
  },
  {
   "cell_type": "code",
   "execution_count": 20,
   "metadata": {},
   "outputs": [
    {
     "data": {
      "text/html": [
       "<div>\n",
       "<style scoped>\n",
       "    .dataframe tbody tr th:only-of-type {\n",
       "        vertical-align: middle;\n",
       "    }\n",
       "\n",
       "    .dataframe tbody tr th {\n",
       "        vertical-align: top;\n",
       "    }\n",
       "\n",
       "    .dataframe thead th {\n",
       "        text-align: right;\n",
       "    }\n",
       "</style>\n",
       "<table border=\"1\" class=\"dataframe\">\n",
       "  <thead>\n",
       "    <tr style=\"text-align: right;\">\n",
       "      <th></th>\n",
       "      <th>売上高</th>\n",
       "      <th>株価</th>\n",
       "    </tr>\n",
       "  </thead>\n",
       "  <tbody>\n",
       "    <tr>\n",
       "      <th>売上高</th>\n",
       "      <td>1.000000</td>\n",
       "      <td>0.935617</td>\n",
       "    </tr>\n",
       "    <tr>\n",
       "      <th>株価</th>\n",
       "      <td>0.935617</td>\n",
       "      <td>1.000000</td>\n",
       "    </tr>\n",
       "  </tbody>\n",
       "</table>\n",
       "</div>"
      ],
      "text/plain": [
       "          売上高        株価\n",
       "売上高  1.000000  0.935617\n",
       "株価   0.935617  1.000000"
      ]
     },
     "execution_count": 20,
     "metadata": {},
     "output_type": "execute_result"
    }
   ],
   "source": [
    "# 売上と株価の相関\n",
    "corr = financial_data[[\"売上高\", \"株価\"]]\n",
    "corr.corr()"
   ]
  },
  {
   "cell_type": "code",
   "execution_count": 21,
   "metadata": {},
   "outputs": [
    {
     "data": {
      "text/plain": [
       "<matplotlib.collections.PathCollection at 0x11af38eb0>"
      ]
     },
     "execution_count": 21,
     "metadata": {},
     "output_type": "execute_result"
    },
    {
     "data": {
      "image/png": "[encoded data removed]",
      "text/plain": [
       "<Figure size 432x288 with 1 Axes>"
      ]
     },
     "metadata": {},
     "output_type": "display_data"
    }
   ],
   "source": [
    "# 売上と株価の散布図\n",
    "x = financial_data[\"売上高\"]\n",
    "y = financial_data[\"株価\"]\n",
    "\n",
    "plt.scatter(x, y)"
   ]
  },
  {
   "cell_type": "code",
   "execution_count": null,
   "metadata": {},
   "outputs": [],
   "source": []
  }
 ],
 "metadata": {
  "kernelspec": {
   "display_name": "Python 3",
   "language": "python",
   "name": "python3"
  },
  "language_info": {
   "codemirror_mode": {
    "name": "ipython",
    "version": 3
   },
   "file_extension": ".py",
   "mimetype": "text/x-python",
   "name": "python",
   "nbconvert_exporter": "python",
   "pygments_lexer": "ipython3",
   "version": "3.8.2"
  },
  "toc": {
   "nav_menu": {},
   "number_sections": true,
   "sideBar": true,
   "skip_h1_title": false,
   "title_cell": "Table of Contents",
   "title_sidebar": "Contents",
   "toc_cell": false,
   "toc_position": {},
   "toc_section_display": true,
   "toc_window_display": false
  }
 },
 "nbformat": 4,
 "nbformat_minor": 4
}
